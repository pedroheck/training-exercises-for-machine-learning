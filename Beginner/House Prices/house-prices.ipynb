{
 "cells": [
  {
   "cell_type": "code",
   "execution_count": 105,
   "metadata": {},
   "outputs": [],
   "source": [
    "import pandas as pd\n",
    "import matplotlib.pyplot as plt\n",
    "import seaborn as sns"
   ]
  },
  {
   "cell_type": "code",
   "execution_count": 106,
   "metadata": {},
   "outputs": [],
   "source": [
    "df_train = pd.read_csv('data/train.csv')\n",
    "df_test = pd.read_csv('data/test.csv')"
   ]
  },
  {
   "cell_type": "code",
   "execution_count": 107,
   "metadata": {},
   "outputs": [
    {
     "data": {
      "text/plain": [
       "Id                 0\n",
       "MSSubClass         0\n",
       "MSZoning           0\n",
       "LotFrontage      259\n",
       "LotArea            0\n",
       "                ... \n",
       "MoSold             0\n",
       "YrSold             0\n",
       "SaleType           0\n",
       "SaleCondition      0\n",
       "SalePrice          0\n",
       "Length: 81, dtype: int64"
      ]
     },
     "execution_count": 107,
     "metadata": {},
     "output_type": "execute_result"
    }
   ],
   "source": [
    "df_train.isnull().sum()"
   ]
  },
  {
   "cell_type": "markdown",
   "metadata": {},
   "source": [
    "As we can see, there are null values we should treat. Let's create a function to see what percentage of the data in each column is null"
   ]
  },
  {
   "cell_type": "code",
   "execution_count": 150,
   "metadata": {},
   "outputs": [],
   "source": [
    "def getMissingData(data):\n",
    "    total = data.isnull().sum().sort_values(ascending=False)\n",
    "    percent = (data.isnull().sum()/data.isnull().count()).sort_values(ascending=False)\n",
    "    missing_data = pd.concat([total, percent], axis=1, keys=['Total', 'Percent'])\n",
    "\n",
    "    print(missing_data.head(20))"
   ]
  },
  {
   "cell_type": "markdown",
   "metadata": {},
   "source": [
    "Before deleting any columns with too much missing data, we should check the data description (data_description.txt) to see what the null values means. For example, for the PoolQC variable, NA means \"no pool\", not \"no data\". This is extremely important to know, since not having a pool seems like a significant feature that influences the sale price. Let's check this for the other variables"
   ]
  },
  {
   "cell_type": "markdown",
   "metadata": {},
   "source": [
    "PoolQC -> NA = no pool\n",
    "\n",
    "MiscFeature -> NA = None (no miscellaneous)\n",
    "\n",
    "Alley -> NA = no alley access\n",
    "\n",
    "Fence -> NA = no fence\n",
    "\n",
    "FireplaceQu -> NA = no fireplace \n",
    "\n",
    "LotFrontage -> NA = NA*\n",
    "\n",
    "GarageYrBlt -> NA = NA*\n",
    "\n",
    "GarageCond -> NA = no garage\n",
    "\n",
    "GarageType -> NA = no garage\n",
    "\n",
    "GarageFinish -> NA = no garage\n",
    "\n",
    "GarageQual -> NA = no garage\n",
    "\n",
    "BsmtFinType2 -> NA = no basement\n",
    "\n",
    "BsmtExposure -> NA = no basement\n",
    "\n",
    "BsmtQual -> NA = no basement\n",
    "\n",
    "BsmtCond -> NA = no basement\n",
    "\n",
    "BsmtFinType1 -> NA = no basement\n",
    "\n",
    "MasVnrArea -> NA = NA*\n",
    "\n",
    "MasVnrType -> NA = NA*\n",
    "\n",
    "Electrical -> NA = NA*\n",
    "\n",
    "\n",
    "*For these variables, the missing data can actually be considered missing data. As for the rest, it simply indicates that the house is missing that feature!\n"
   ]
  },
  {
   "cell_type": "markdown",
   "metadata": {},
   "source": [
    "So let's deal with these NA values variable by variable"
   ]
  },
  {
   "cell_type": "code",
   "execution_count": 109,
   "metadata": {},
   "outputs": [],
   "source": [
    "unwanted_columns = []"
   ]
  },
  {
   "cell_type": "markdown",
   "metadata": {},
   "source": [
    "### PoolArea"
   ]
  },
  {
   "cell_type": "code",
   "execution_count": 110,
   "metadata": {},
   "outputs": [
    {
     "data": {
      "text/plain": [
       "0      1453\n",
       "512       1\n",
       "648       1\n",
       "576       1\n",
       "555       1\n",
       "480       1\n",
       "519       1\n",
       "738       1\n",
       "Name: PoolArea, dtype: int64"
      ]
     },
     "execution_count": 110,
     "metadata": {},
     "output_type": "execute_result"
    }
   ],
   "source": [
    "df_train['PoolArea'].value_counts()"
   ]
  },
  {
   "cell_type": "markdown",
   "metadata": {},
   "source": [
    "We can see how there's only 7 houses with relevant info about the pool area. This variable clearly will tell us nothing."
   ]
  },
  {
   "cell_type": "code",
   "execution_count": 111,
   "metadata": {},
   "outputs": [],
   "source": [
    "unwanted_columns.append('PoolArea')"
   ]
  },
  {
   "cell_type": "markdown",
   "metadata": {},
   "source": [
    "### PoolQC, MiscFeature, Alley and Fence"
   ]
  },
  {
   "cell_type": "markdown",
   "metadata": {},
   "source": [
    "For all these variables, even though the NA values aren't actually null data (they mean the house doesn't have that particular feature), since the huge majority don't have those features, our model may not learn very much about their role in house pricing. That said, we can drop them"
   ]
  },
  {
   "cell_type": "code",
   "execution_count": 112,
   "metadata": {},
   "outputs": [],
   "source": [
    "unwanted_columns.append('PoolQC')\n",
    "unwanted_columns.append('MiscFeature')\n",
    "unwanted_columns.append('Alley')\n",
    "unwanted_columns.append('Fence')"
   ]
  },
  {
   "cell_type": "markdown",
   "metadata": {},
   "source": [
    "### FireplaceQu"
   ]
  },
  {
   "cell_type": "code",
   "execution_count": 118,
   "metadata": {},
   "outputs": [],
   "source": [
    "df_train['FireplaceQu'] = df_train['FireplaceQu'].fillna('NoFireplace')"
   ]
  },
  {
   "cell_type": "code",
   "execution_count": 119,
   "metadata": {},
   "outputs": [
    {
     "data": {
      "text/plain": [
       "0       NoFireplace\n",
       "1                TA\n",
       "2                TA\n",
       "3                Gd\n",
       "4                TA\n",
       "           ...     \n",
       "1455             TA\n",
       "1456             TA\n",
       "1457             Gd\n",
       "1458    NoFireplace\n",
       "1459    NoFireplace\n",
       "Name: FireplaceQu, Length: 1460, dtype: object"
      ]
     },
     "execution_count": 119,
     "metadata": {},
     "output_type": "execute_result"
    }
   ],
   "source": [
    "df_train['FireplaceQu']"
   ]
  },
  {
   "cell_type": "code",
   "execution_count": 151,
   "metadata": {},
   "outputs": [
    {
     "name": "stdout",
     "output_type": "stream",
     "text": [
      "              Total   Percent\n",
      "PoolQC         1453  0.995205\n",
      "MiscFeature    1406  0.963014\n",
      "Alley          1369  0.937671\n",
      "Fence          1179  0.807534\n",
      "GarageFinish     81  0.055479\n",
      "GarageType       81  0.055479\n",
      "GarageYrBlt      81  0.055479\n",
      "GarageQual       81  0.055479\n",
      "GarageCond       81  0.055479\n",
      "BsmtExposure     38  0.026027\n",
      "BsmtFinType2     38  0.026027\n",
      "BsmtFinType1     37  0.025342\n",
      "BsmtCond         37  0.025342\n",
      "BsmtQual         37  0.025342\n",
      "MasVnrType        8  0.005479\n",
      "Electrical        1  0.000685\n",
      "BedroomAbvGr      0  0.000000\n",
      "KitchenAbvGr      0  0.000000\n",
      "Fireplaces        0  0.000000\n",
      "KitchenQual       0  0.000000\n"
     ]
    }
   ],
   "source": [
    "getMissingData(df_train)"
   ]
  },
  {
   "cell_type": "markdown",
   "metadata": {},
   "source": [
    "### LotFrontage"
   ]
  },
  {
   "cell_type": "markdown",
   "metadata": {},
   "source": [
    "Since \"LotFrontage\" is numerical, and 17.7% of the data is missing, the approach I'll use is to fill the NaN values with the median"
   ]
  },
  {
   "cell_type": "code",
   "execution_count": 129,
   "metadata": {},
   "outputs": [],
   "source": [
    "df_train['LotFrontage'] = df_train['LotFrontage'].fillna(df_train['LotFrontage'].median())"
   ]
  },
  {
   "cell_type": "markdown",
   "metadata": {},
   "source": [
    "### GarageYrBlt"
   ]
  },
  {
   "cell_type": "markdown",
   "metadata": {},
   "source": [
    "Looking at the correlation matrix, GarageYrBlt and YearBlt are quite well correlated. I will choose to drop this column entirely."
   ]
  },
  {
   "cell_type": "code",
   "execution_count": 149,
   "metadata": {},
   "outputs": [
    {
     "data": {
      "text/plain": [
       "<AxesSubplot:>"
      ]
     },
     "execution_count": 149,
     "metadata": {},
     "output_type": "execute_result"
    },
    {
     "data": {
      "image/png": "[encoded data removed]",
      "text/plain": [
       "<Figure size 864x720 with 2 Axes>"
      ]
     },
     "metadata": {
      "needs_background": "light"
     },
     "output_type": "display_data"
    }
   ],
   "source": [
    "import seaborn as sns\n",
    "import matplotlib.pyplot as plt\n",
    "\n",
    "corr_matrix = df_train.corr()\n",
    "plt.figure(figsize=[12, 10])\n",
    "sns.heatmap(corr_matrix)"
   ]
  },
  {
   "cell_type": "code",
   "execution_count": 132,
   "metadata": {},
   "outputs": [],
   "source": [
    "unwanted_columns.append('GarageYrBlt')"
   ]
  },
  {
   "cell_type": "markdown",
   "metadata": {},
   "source": [
    "### MasVnrArea"
   ]
  },
  {
   "cell_type": "markdown",
   "metadata": {},
   "source": [
    "Here, there're only 8 missing values. I'll fill in these in with the mean, since the values vary a lot and the median in this case is 0.00, while the mean is 103.68"
   ]
  },
  {
   "cell_type": "code",
   "execution_count": 138,
   "metadata": {},
   "outputs": [],
   "source": [
    "df_train['MasVnrArea'] = df_train['MasVnrArea'].fillna(df_train['MasVnrArea'].mean())"
   ]
  },
  {
   "cell_type": "markdown",
   "metadata": {},
   "source": [
    "### MasVnrType"
   ]
  },
  {
   "cell_type": "markdown",
   "metadata": {},
   "source": [
    "There are also only 8 missing values here, but since this variable is categorical I'll choose to simply delete these 8 lines"
   ]
  },
  {
   "cell_type": "code",
   "execution_count": 152,
   "metadata": {},
   "outputs": [],
   "source": [
    "df_train['MasVnrType'] = df_train['MasVnrType'].dropna()"
   ]
  },
  {
   "cell_type": "markdown",
   "metadata": {},
   "source": [
    "### Electrical"
   ]
  },
  {
   "cell_type": "markdown",
   "metadata": {},
   "source": [
    "There is only 1 missing value, but since this variable is categorical I'll also choose to delete the line"
   ]
  },
  {
   "cell_type": "code",
   "execution_count": 153,
   "metadata": {},
   "outputs": [],
   "source": [
    "df_train['Electrical'] = df_train['Electrical'].dropna()"
   ]
  },
  {
   "cell_type": "markdown",
   "metadata": {},
   "source": [
    "### Now droping the unwanted columns"
   ]
  },
  {
   "cell_type": "code",
   "execution_count": 154,
   "metadata": {},
   "outputs": [],
   "source": [
    "df_train = df_train.drop(columns=unwanted_columns)"
   ]
  },
  {
   "cell_type": "code",
   "execution_count": 155,
   "metadata": {},
   "outputs": [
    {
     "name": "stdout",
     "output_type": "stream",
     "text": [
      "              Total   Percent\n",
      "GarageType       81  0.055479\n",
      "GarageFinish     81  0.055479\n",
      "GarageQual       81  0.055479\n",
      "GarageCond       81  0.055479\n",
      "BsmtExposure     38  0.026027\n",
      "BsmtFinType2     38  0.026027\n",
      "BsmtQual         37  0.025342\n",
      "BsmtCond         37  0.025342\n",
      "BsmtFinType1     37  0.025342\n",
      "MasVnrType        8  0.005479\n",
      "Electrical        1  0.000685\n",
      "BsmtHalfBath      0  0.000000\n",
      "KitchenQual       0  0.000000\n",
      "FullBath          0  0.000000\n",
      "BsmtFullBath      0  0.000000\n",
      "GrLivArea         0  0.000000\n",
      "HalfBath          0  0.000000\n",
      "BedroomAbvGr      0  0.000000\n",
      "LowQualFinSF      0  0.000000\n",
      "2ndFlrSF          0  0.000000\n"
     ]
    }
   ],
   "source": [
    "getMissingData(df_train)"
   ]
  }
 ],
 "metadata": {
  "interpreter": {
   "hash": "fb335c21bbadc2fa638188c3e82a971f8a30216d44f69f25ee5dbfd506ac75e1"
  },
  "kernelspec": {
   "display_name": "Python 3.9.2 64-bit",
   "language": "python",
   "name": "python3"
  },
  "language_info": {
   "codemirror_mode": {
    "name": "ipython",
    "version": 3
   },
   "file_extension": ".py",
   "mimetype": "text/x-python",
   "name": "python",
   "nbconvert_exporter": "python",
   "pygments_lexer": "ipython3",
   "version": "3.9.2"
  },
  "orig_nbformat": 4
 },
 "nbformat": 4,
 "nbformat_minor": 2
}
